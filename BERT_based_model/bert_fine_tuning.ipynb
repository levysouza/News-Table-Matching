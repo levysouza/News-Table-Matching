{
 "cells": [
  {
   "cell_type": "code",
   "execution_count": null,
   "metadata": {},
   "outputs": [],
   "source": [
    "import numpy as np\n",
    "import pandas as pd\n",
    "from tqdm import tqdm\n",
    "import tensorflow as tf\n",
    "from transformers import TFBertModel, BertTokenizer, TFBertMainLayer, BertConfig"
   ]
  },
  {
   "cell_type": "code",
   "execution_count": null,
   "metadata": {},
   "outputs": [],
   "source": [
    "device_name = tf.test.gpu_device_name()\n",
    "if device_name != '/device:GPU:0':\n",
    "    raise SystemError('GPU not found')\n",
    "print('found GPU at {}'.format(device_name))"
   ]
  },
  {
   "cell_type": "code",
   "execution_count": null,
   "metadata": {},
   "outputs": [],
   "source": [
    "physical_devices = tf.config.experimental.list_physical_devices('GPU')"
   ]
  },
  {
   "cell_type": "code",
   "execution_count": null,
   "metadata": {},
   "outputs": [],
   "source": [
    "tf.config.experimental.set_memory_growth(physical_devices[0], enable=True)"
   ]
  },
  {
   "cell_type": "code",
   "execution_count": null,
   "metadata": {},
   "outputs": [],
   "source": [
    "bert_model = TFBertModel.from_pretrained(\"bert-base-cased\")\n",
    "bert_tokenizer = BertTokenizer.from_pretrained(\"bert-base-cased\")"
   ]
  },
  {
   "cell_type": "code",
   "execution_count": null,
   "metadata": {},
   "outputs": [],
   "source": [
    "MAX_TOKENS = 250"
   ]
  },
  {
   "cell_type": "code",
   "execution_count": null,
   "metadata": {},
   "outputs": [],
   "source": []
  },
  {
   "cell_type": "code",
   "execution_count": null,
   "metadata": {},
   "outputs": [],
   "source": []
  },
  {
   "cell_type": "code",
   "execution_count": null,
   "metadata": {},
   "outputs": [],
   "source": [
    "train_dataset = pd.read_csv('../../train_data/train_data_T.csv', delimiter=',')\n",
    "validation_dataset = pd.read_csv('../../train_data/validation_data_T.csv', delimiter=',')"
   ]
  },
  {
   "cell_type": "code",
   "execution_count": null,
   "metadata": {},
   "outputs": [],
   "source": []
  },
  {
   "cell_type": "code",
   "execution_count": null,
   "metadata": {},
   "outputs": [],
   "source": []
  },
  {
   "cell_type": "code",
   "execution_count": null,
   "metadata": {},
   "outputs": [],
   "source": []
  },
  {
   "cell_type": "code",
   "execution_count": null,
   "metadata": {},
   "outputs": [],
   "source": []
  },
  {
   "cell_type": "code",
   "execution_count": null,
   "metadata": {},
   "outputs": [],
   "source": [
    "train_dataset.head(1)"
   ]
  },
  {
   "cell_type": "code",
   "execution_count": null,
   "metadata": {},
   "outputs": [],
   "source": [
    "train_title_ids = []\n",
    "train_title_mask = []\n",
    "train_title_seg = []\n",
    "\n",
    "train_label = []\n",
    "\n",
    "for i,row in tqdm(train_dataset.iterrows()):\n",
    "    \n",
    "    article_title_main_passage = str(row['article_page_title'])+\" \"+str(row['article_meta_description'])+\" \"+str(row['article_keywords'])\n",
    "    table_title_main_passage = str(row['table_page_title'])+\" \"+str(row['table_page_summary'])+\" \"+str(row['table_page_keywords'])\n",
    "    \n",
    "    return_tokenizer1 = bert_tokenizer.encode_plus(\n",
    "      article_title_main_passage,\n",
    "      table_title_main_passage,\n",
    "      max_length=MAX_TOKENS,\n",
    "      add_special_tokens=True,\n",
    "      return_token_type_ids=True,\n",
    "      pad_to_max_length=True,\n",
    "      return_attention_mask=True,\n",
    "    )\n",
    "    \n",
    "    train_title_ids.append(return_tokenizer1['input_ids'])\n",
    "    train_title_mask.append(return_tokenizer1['attention_mask'])\n",
    "    train_title_seg.append(return_tokenizer1['token_type_ids'])  \n",
    "    \n",
    "    train_label.append((row['label']))"
   ]
  },
  {
   "cell_type": "code",
   "execution_count": null,
   "metadata": {},
   "outputs": [],
   "source": [
    "train_title_ids = np.array(train_title_ids)\n",
    "train_title_mask = np.array(train_title_mask)\n",
    "train_title_seg = np.array(train_title_seg)\n",
    "\n",
    "train_label = np.array(train_label)"
   ]
  },
  {
   "cell_type": "code",
   "execution_count": null,
   "metadata": {},
   "outputs": [],
   "source": []
  },
  {
   "cell_type": "code",
   "execution_count": null,
   "metadata": {},
   "outputs": [],
   "source": [
    "validation_title_ids = []\n",
    "validation_title_mask = []\n",
    "validation_title_seg = []\n",
    "\n",
    "validation_label = []\n",
    "\n",
    "for i,row in tqdm(validation_dataset.iterrows()):\n",
    "    \n",
    "    article_title_main_passage = str(row['article_page_title'])+\" \"+str(row['article_meta_description'])+\" \"+str(row['article_keywords'])\n",
    "    table_title_main_passage = str(row['table_page_title'])+\" \"+str(row['table_page_summary'])+\" \"+str(row['table_page_keywords'])\n",
    "    \n",
    "    return_tokenizer1 = bert_tokenizer.encode_plus(\n",
    "      article_title_main_passage,\n",
    "      table_title_main_passage,\n",
    "      max_length=MAX_TOKENS,\n",
    "      add_special_tokens=True,\n",
    "      return_token_type_ids=True,\n",
    "      pad_to_max_length=True,\n",
    "      return_attention_mask=True,\n",
    "    )\n",
    "    \n",
    "    validation_title_ids.append(return_tokenizer1['input_ids'])\n",
    "    validation_title_mask.append(return_tokenizer1['attention_mask'])\n",
    "    validation_title_seg.append(return_tokenizer1['token_type_ids'])  \n",
    "    \n",
    "    validation_label.append((row['label']))"
   ]
  },
  {
   "cell_type": "code",
   "execution_count": null,
   "metadata": {},
   "outputs": [],
   "source": [
    "validation_title_ids = np.array(validation_title_ids)\n",
    "validation_title_mask = np.array(validation_title_mask)\n",
    "validation_title_seg = np.array(validation_title_seg)\n",
    "\n",
    "validation_label = np.array(validation_label)"
   ]
  },
  {
   "cell_type": "code",
   "execution_count": null,
   "metadata": {},
   "outputs": [],
   "source": []
  },
  {
   "cell_type": "code",
   "execution_count": null,
   "metadata": {},
   "outputs": [],
   "source": []
  },
  {
   "cell_type": "code",
   "execution_count": null,
   "metadata": {},
   "outputs": [],
   "source": []
  },
  {
   "cell_type": "code",
   "execution_count": null,
   "metadata": {},
   "outputs": [],
   "source": [
    "title_ids = tf.keras.layers.Input(shape=(MAX_TOKENS,), name='input_ids', dtype='int32')\n",
    "title_mask = tf.keras.layers.Input(shape=(MAX_TOKENS,), name='input_mask', dtype='int32')\n",
    "title_seg = tf.keras.layers.Input(shape=(MAX_TOKENS,), name='input_seg', dtype='int32')\n",
    "\n",
    "last_hidden_state, pooled_output = bert_model.bert([title_ids,title_mask,title_seg])\n",
    "\n",
    "MLP_output = tf.keras.layers.Dense(1,activation='sigmoid')(pooled_output)\n",
    "\n",
    "model = tf.keras.Model(inputs=[title_ids,title_mask,title_seg],outputs=MLP_output)  "
   ]
  },
  {
   "cell_type": "code",
   "execution_count": null,
   "metadata": {},
   "outputs": [],
   "source": [
    "optimizer = tf.keras.optimizers.Adam(learning_rate=2e-5)"
   ]
  },
  {
   "cell_type": "code",
   "execution_count": null,
   "metadata": {},
   "outputs": [],
   "source": [
    "model.compile(loss=\"binary_crossentropy\",optimizer=optimizer, metrics=['accuracy'])"
   ]
  },
  {
   "cell_type": "code",
   "execution_count": null,
   "metadata": {},
   "outputs": [],
   "source": [
    "model.summary()"
   ]
  },
  {
   "cell_type": "code",
   "execution_count": null,
   "metadata": {},
   "outputs": [],
   "source": [
    "filepath=\"model_bert_fine_tuning_TMK_{epoch:02d}_{val_accuracy:.4f}.h5\"\n",
    "checkpoint = tf.keras.callbacks.ModelCheckpoint(filepath, monitor='val_accuracy', verbose=1, save_format='tf', save_best_only=True, mode='max')\n",
    "callbacks_list = [checkpoint]"
   ]
  },
  {
   "cell_type": "code",
   "execution_count": null,
   "metadata": {},
   "outputs": [],
   "source": [
    "history = model.fit([train_title_ids, train_title_mask, train_title_seg], train_label, \n",
    "          epochs=5, \n",
    "          batch_size=16,\n",
    "          verbose=1,\n",
    "          validation_data=([validation_title_ids, validation_title_mask, validation_title_seg], validation_label),\n",
    "        callbacks=callbacks_list)"
   ]
  },
  {
   "cell_type": "code",
   "execution_count": null,
   "metadata": {},
   "outputs": [],
   "source": []
  },
  {
   "cell_type": "code",
   "execution_count": null,
   "metadata": {},
   "outputs": [],
   "source": []
  },
  {
   "cell_type": "code",
   "execution_count": null,
   "metadata": {},
   "outputs": [],
   "source": []
  },
  {
   "cell_type": "code",
   "execution_count": null,
   "metadata": {},
   "outputs": [],
   "source": []
  },
  {
   "cell_type": "code",
   "execution_count": null,
   "metadata": {},
   "outputs": [],
   "source": []
  }
 ],
 "metadata": {
  "kernelspec": {
   "display_name": "Python 3",
   "language": "python",
   "name": "python3"
  },
  "language_info": {
   "codemirror_mode": {
    "name": "ipython",
    "version": 3
   },
   "file_extension": ".py",
   "mimetype": "text/x-python",
   "name": "python",
   "nbconvert_exporter": "python",
   "pygments_lexer": "ipython3",
   "version": "3.7.3"
  }
 },
 "nbformat": 4,
 "nbformat_minor": 2
}
