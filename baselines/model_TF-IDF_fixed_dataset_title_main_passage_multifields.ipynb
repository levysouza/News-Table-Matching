{
 "cells": [
  {
   "cell_type": "code",
   "execution_count": 1,
   "metadata": {},
   "outputs": [],
   "source": [
    "from tqdm import tqdm\n",
    "import numpy as np\n",
    "import pandas as pd\n",
    "import random\n",
    "import gensim as gs\n",
    "import tensorflow as tf\n",
    "import warnings\n",
    "import tensorflow_hub as hub\n",
    "from gensim.models.doc2vec import Doc2Vec\n",
    "from nltk.tokenize import TweetTokenizer\n",
    "tknzr = TweetTokenizer()\n",
    "warnings.filterwarnings('ignore')\n",
    "from sklearn.metrics import pairwise_distances\n",
    "from heapq import nsmallest\n",
    "from sklearn.feature_extraction.text import TfidfVectorizer"
   ]
  },
  {
   "cell_type": "code",
   "execution_count": null,
   "metadata": {},
   "outputs": [],
   "source": []
  },
  {
   "cell_type": "code",
   "execution_count": 2,
   "metadata": {},
   "outputs": [],
   "source": [
    "test_articles = pd.read_csv('../dataset/test_articles_newyork.csv', delimiter=',')"
   ]
  },
  {
   "cell_type": "code",
   "execution_count": null,
   "metadata": {},
   "outputs": [],
   "source": []
  },
  {
   "cell_type": "code",
   "execution_count": 3,
   "metadata": {},
   "outputs": [],
   "source": [
    "fixed_index = pd.read_csv('../dataset/fixed_test_set_newyork_max_recall5.csv', delimiter=',')"
   ]
  },
  {
   "cell_type": "code",
   "execution_count": null,
   "metadata": {},
   "outputs": [],
   "source": []
  },
  {
   "cell_type": "code",
   "execution_count": 4,
   "metadata": {},
   "outputs": [
    {
     "name": "stderr",
     "output_type": "stream",
     "text": [
      "148it [00:00, 6042.72it/s]\n"
     ]
    },
    {
     "data": {
      "text/plain": [
       "TfidfVectorizer(analyzer='word', binary=False, decode_error='strict',\n",
       "                dtype=<class 'numpy.float64'>, encoding='utf-8',\n",
       "                input='content', lowercase=True, max_df=1.0, max_features=None,\n",
       "                min_df=1, ngram_range=(1, 1), norm='l2', preprocessor=None,\n",
       "                smooth_idf=True, stop_words=None, strip_accents=None,\n",
       "                sublinear_tf=False, token_pattern='(?u)\\\\b\\\\w\\\\w+\\\\b',\n",
       "                tokenizer=None, use_idf=True, vocabulary=None)"
      ]
     },
     "execution_count": 4,
     "metadata": {},
     "output_type": "execute_result"
    }
   ],
   "source": [
    "corpus = []\n",
    "\n",
    "for i, row in tqdm(test_articles.iterrows()):\n",
    "    \n",
    "    corpus.append(row['article_title'])\n",
    "    corpus.append(str(row['article_meta_description']))\n",
    "    \n",
    "for i, row in fixed_index.iterrows():\n",
    "    \n",
    "    corpus.append(row['table_page_title'])\n",
    "    corpus.append(str(row['table_page_main_passage']))\n",
    "\n",
    "vectorizer = TfidfVectorizer()\n",
    "vectorizer.fit(corpus)"
   ]
  },
  {
   "cell_type": "code",
   "execution_count": null,
   "metadata": {},
   "outputs": [],
   "source": []
  },
  {
   "cell_type": "code",
   "execution_count": null,
   "metadata": {},
   "outputs": [],
   "source": []
  },
  {
   "cell_type": "code",
   "execution_count": 5,
   "metadata": {},
   "outputs": [],
   "source": [
    "def get_accuracy(ID_goal,ranked_tables_ID):\n",
    "    \n",
    "    accuracy = 0\n",
    "    \n",
    "    for table_ID in ranked_tables_ID:\n",
    "        \n",
    "        if table_ID[0] == ID_goal:\n",
    "    \n",
    "            accuracy = 1\n",
    "            break;\n",
    "\n",
    "    return accuracy"
   ]
  },
  {
   "cell_type": "code",
   "execution_count": 6,
   "metadata": {},
   "outputs": [],
   "source": [
    "def get_mrr(ID_goal,ranked_tables_ID):\n",
    "    \n",
    "    accuracy = 0\n",
    "    index_match = 1\n",
    "\n",
    "    for idTable in ranked_tables_ID:\n",
    "        \n",
    "        if idTable[0] == ID_goal:\n",
    "    \n",
    "            accuracy = 1/index_match\n",
    "            break;\n",
    "        \n",
    "        index_match = index_match + 1\n",
    "   \n",
    "    return accuracy"
   ]
  },
  {
   "cell_type": "code",
   "execution_count": null,
   "metadata": {},
   "outputs": [],
   "source": []
  },
  {
   "cell_type": "code",
   "execution_count": 7,
   "metadata": {},
   "outputs": [
    {
     "name": "stdout",
     "output_type": "stream",
     "text": [
      "<class 'pandas.core.frame.DataFrame'>\n",
      "RangeIndex: 148 entries, 0 to 147\n",
      "Data columns (total 10 columns):\n",
      " #   Column                    Non-Null Count  Dtype \n",
      "---  ------                    --------------  ----- \n",
      " 0   article_full_text         141 non-null    object\n",
      " 1   article_key_match         148 non-null    object\n",
      " 2   article_keywords          143 non-null    object\n",
      " 3   article_main_passage      148 non-null    object\n",
      " 4   article_meta_description  132 non-null    object\n",
      " 5   article_meta_keywords     58 non-null     object\n",
      " 6   article_summary           141 non-null    object\n",
      " 7   article_tags              54 non-null     object\n",
      " 8   article_title             148 non-null    object\n",
      " 9   article_url               148 non-null    object\n",
      "dtypes: object(10)\n",
      "memory usage: 11.7+ KB\n"
     ]
    }
   ],
   "source": [
    "test_articles.info()"
   ]
  },
  {
   "cell_type": "code",
   "execution_count": 8,
   "metadata": {},
   "outputs": [
    {
     "name": "stdout",
     "output_type": "stream",
     "text": [
      "<class 'pandas.core.frame.DataFrame'>\n",
      "RangeIndex: 14800 entries, 0 to 14799\n",
      "Data columns (total 5 columns):\n",
      " #   Column                   Non-Null Count  Dtype \n",
      "---  ------                   --------------  ----- \n",
      " 0   label_index              14800 non-null  object\n",
      " 1   table_page_id            14800 non-null  object\n",
      " 2   table_page_title         14800 non-null  object\n",
      " 3   table_page_main_passage  14151 non-null  object\n",
      " 4   table_page_keywords      10971 non-null  object\n",
      "dtypes: object(5)\n",
      "memory usage: 578.2+ KB\n"
     ]
    }
   ],
   "source": [
    "fixed_index.info()"
   ]
  },
  {
   "cell_type": "code",
   "execution_count": null,
   "metadata": {},
   "outputs": [],
   "source": []
  },
  {
   "cell_type": "code",
   "execution_count": 9,
   "metadata": {},
   "outputs": [
    {
     "name": "stderr",
     "output_type": "stream",
     "text": [
      "148it [03:39,  1.48s/it]\n",
      "148it [03:29,  1.41s/it]\n",
      "148it [01:48,  1.37it/s]\n",
      "148it [03:41,  1.50s/it]\n",
      "148it [03:38,  1.48s/it]"
     ]
    },
    {
     "name": "stdout",
     "output_type": "stream",
     "text": [
      "TF-IDF METHOD\n",
      "['Acc@1', '0.3514']\n",
      "['Acc@5', '0.4865']\n",
      "['Acc@10', '0.5541']\n",
      "['Acc@20', '0.723']\n",
      "['Acc@50', '0.8311']\n",
      "MRR: 0.4241\n",
      "[0, 0.023255813953488372, 1.0, 1.0, 0, 0, 0, 0.038461538461538464, 0.07142857142857142, 1.0, 0.5, 0, 0.3333333333333333, 1.0, 0.07692307692307693, 1.0, 0, 0.5, 1.0, 1.0, 0.034482758620689655, 0, 1.0, 1.0, 1.0, 0, 0.022727272727272728, 0.25, 0, 0.07142857142857142, 1.0, 0.1111111111111111, 0.3333333333333333, 0.021739130434782608, 0.3333333333333333, 0.0625, 0.07142857142857142, 0.06666666666666667, 0.2, 1.0, 0.07142857142857142, 0.3333333333333333, 0.14285714285714285, 1.0, 0.07142857142857142, 0, 1.0, 0.05, 0.045454545454545456, 1.0, 0.1111111111111111, 0.0625, 0.07142857142857142, 0.043478260869565216, 1.0, 0.3333333333333333, 0.3333333333333333, 1.0, 0.07142857142857142, 1.0, 1.0, 0.3333333333333333, 0.2, 0.14285714285714285, 1.0, 1.0, 0.07692307692307693, 1.0, 1.0, 1.0, 0.07142857142857142, 0.5, 0.14285714285714285, 0.043478260869565216, 0, 0.2, 0.07142857142857142, 0.025, 1.0, 0, 0.05555555555555555, 0.06666666666666667, 1.0, 0.037037037037037035, 0.2, 1.0, 1.0, 1.0, 1.0, 0.02040816326530612, 0.07142857142857142, 0.5, 1.0, 0.034482758620689655, 1.0, 0.03571428571428571, 1.0, 0.06666666666666667, 1.0, 0.027777777777777776, 0, 0.5, 0.024390243902439025, 0, 0, 0, 1.0, 1.0, 0, 0, 1.0, 1.0, 0.025, 0.1, 0.09090909090909091, 1.0, 0, 0.07142857142857142, 0, 1.0, 0, 0.07142857142857142, 0, 0.3333333333333333, 0, 0.14285714285714285, 1.0, 1.0, 0.1, 0.5, 1.0, 0.07142857142857142, 0.16666666666666666, 0.5, 0, 0.09090909090909091, 1.0, 1.0, 0.09090909090909091, 1.0, 1.0, 1.0, 0, 1.0, 1.0, 0.1, 1.0, 1.0]\n",
      "\n"
     ]
    },
    {
     "name": "stderr",
     "output_type": "stream",
     "text": [
      "\n"
     ]
    }
   ],
   "source": [
    "evaluate_topk = [1,5,10,20,50]\n",
    "\n",
    "result = []\n",
    "\n",
    "#evaluating each topk value\n",
    "for TOP_K in evaluate_topk:\n",
    "\n",
    "    accuracy = []\n",
    "    mrr = []\n",
    "\n",
    "    for i, row in tqdm(test_articles.iterrows()):\n",
    "\n",
    "        #current article values\n",
    "        article_ID = row['article_key_match']\n",
    "        article_title_text = str(row['article_title'])\n",
    "        article_meta_description_text = str(row['article_meta_description'])\n",
    "\n",
    "        #embedding and model variables\n",
    "        article_title1 = []\n",
    "        article_title2 = []\n",
    "        title_table1 = []\n",
    "        title_table2 = []\n",
    "        ranked_tables_model = []\n",
    "\n",
    "        #return index\n",
    "        return_index = fixed_index.loc[fixed_index['label_index'] == row['article_key_match']]\n",
    "        \n",
    "        tfidf_vector1 = vectorizer.transform([article_title_text])\n",
    "        tfidf_vector2 = vectorizer.transform([article_meta_description_text])\n",
    "       \n",
    "        article_title1.append(tfidf_vector1[0].toarray()[0])\n",
    "        article_title2.append(tfidf_vector2[0].toarray()[0])\n",
    "\n",
    "        #creating embedding \n",
    "        for i, row in return_index.iterrows():\n",
    "            \n",
    "            tfidf_vector3 = vectorizer.transform([str(row['table_page_title'])])\n",
    "            tfidf_vector4 = vectorizer.transform([str(row['table_page_main_passage'])])\n",
    "            \n",
    "            title_table1.append(tfidf_vector3[0].toarray()[0])\n",
    "            title_table2.append(tfidf_vector4[0].toarray()[0])\n",
    "        \n",
    "        distance_vector1 = pairwise_distances(article_title1, title_table1, metric='cosine')\n",
    "        distance_vector2 = pairwise_distances(article_title2, title_table2, metric='cosine')\n",
    "        final_vector = (np.array(distance_vector1) + np.array(distance_vector2)) / 2.0\n",
    "        \n",
    "        #creating the final dataframe\n",
    "        for i in range(0,len(final_vector[0])):\n",
    "\n",
    "            ranked_tables_model.append([return_index.iloc[i]['table_page_id'],return_index.iloc[i]['table_page_title'],final_vector[0][i]]) \n",
    "\n",
    "        data_frame = pd.DataFrame(ranked_tables_model, columns = ['table_ID', 'table_title','table_ranking']) \n",
    "        data_frame_sorting = data_frame.sort_values('table_ranking')\n",
    "        \n",
    "        selected_top = data_frame_sorting.head(TOP_K)\n",
    "#         max_score = selected_top['table_ranking'].max()\n",
    "#         draw_tables_socres = data_frame_sorting[data_frame_sorting['table_ranking'] <= max_score]\n",
    "        final_ranked_tables = selected_top.iloc[:,0:1].values\n",
    "    \n",
    "#         print(\"\")\n",
    "#         print(\"query:\" +article_title_text)\n",
    "#         print(\"\")\n",
    "#         print(draw_tables_socres)\n",
    "\n",
    "        #getting topk accuracy\n",
    "        accuracy.append(get_accuracy(article_ID, final_ranked_tables))\n",
    "\n",
    "        #testing mean reciprocal rank at k = 50\n",
    "        if TOP_K == 50:\n",
    "\n",
    "            mrr.append(get_mrr(article_ID, final_ranked_tables))\n",
    "\n",
    "    result.append([\"Acc@\"+str(TOP_K),str(round(np.mean(accuracy),4))])\n",
    "\n",
    "print(\"TF-IDF METHOD\")\n",
    "print(result[0])\n",
    "print(result[1])\n",
    "print(result[2])\n",
    "print(result[3])\n",
    "print(result[4])\n",
    "print(\"MRR: \"+str(round(np.mean(mrr),4)) )\n",
    "print(mrr)\n",
    "print(\"\")"
   ]
  },
  {
   "cell_type": "code",
   "execution_count": null,
   "metadata": {},
   "outputs": [],
   "source": []
  },
  {
   "cell_type": "code",
   "execution_count": null,
   "metadata": {},
   "outputs": [],
   "source": []
  },
  {
   "cell_type": "code",
   "execution_count": null,
   "metadata": {},
   "outputs": [],
   "source": []
  },
  {
   "cell_type": "code",
   "execution_count": null,
   "metadata": {},
   "outputs": [],
   "source": []
  },
  {
   "cell_type": "code",
   "execution_count": null,
   "metadata": {},
   "outputs": [],
   "source": []
  },
  {
   "cell_type": "code",
   "execution_count": null,
   "metadata": {},
   "outputs": [],
   "source": []
  }
 ],
 "metadata": {
  "kernelspec": {
   "display_name": "Python 3",
   "language": "python",
   "name": "python3"
  },
  "language_info": {
   "codemirror_mode": {
    "name": "ipython",
    "version": 3
   },
   "file_extension": ".py",
   "mimetype": "text/x-python",
   "name": "python",
   "nbconvert_exporter": "python",
   "pygments_lexer": "ipython3",
   "version": "3.6.10"
  }
 },
 "nbformat": 4,
 "nbformat_minor": 2
}
