{
 "cells": [
  {
   "cell_type": "code",
   "execution_count": 1,
   "metadata": {},
   "outputs": [],
   "source": [
    "from tqdm import tqdm\n",
    "import numpy as np\n",
    "import pandas as pd\n",
    "import random\n",
    "import gensim as gs\n",
    "import tensorflow as tf\n",
    "import warnings\n",
    "import tensorflow_hub as hub\n",
    "from gensim.models.doc2vec import Doc2Vec\n",
    "from nltk.tokenize import TweetTokenizer\n",
    "tknzr = TweetTokenizer()\n",
    "warnings.filterwarnings('ignore')\n",
    "from sklearn.metrics import pairwise_distances\n",
    "from heapq import nsmallest\n",
    "from sklearn.feature_extraction.text import TfidfVectorizer\n",
    "from rank_bm25 import BM25Okapi"
   ]
  },
  {
   "cell_type": "code",
   "execution_count": null,
   "metadata": {},
   "outputs": [],
   "source": []
  },
  {
   "cell_type": "code",
   "execution_count": 2,
   "metadata": {},
   "outputs": [],
   "source": [
    "test_articles = pd.read_csv('../dataset/test_articles_ourdata.csv', delimiter=',')"
   ]
  },
  {
   "cell_type": "code",
   "execution_count": 3,
   "metadata": {},
   "outputs": [],
   "source": [
    "fixed_index = pd.read_csv('../dataset/fixed_test_set_ourdata.csv', delimiter=',')"
   ]
  },
  {
   "cell_type": "code",
   "execution_count": null,
   "metadata": {},
   "outputs": [],
   "source": []
  },
  {
   "cell_type": "code",
   "execution_count": null,
   "metadata": {},
   "outputs": [],
   "source": []
  },
  {
   "cell_type": "code",
   "execution_count": 4,
   "metadata": {},
   "outputs": [],
   "source": [
    "def get_accuracy(ID_goal,ranked_tables_ID):\n",
    "    \n",
    "    accuracy = 0\n",
    "    \n",
    "    for table_ID in ranked_tables_ID:\n",
    "        \n",
    "        if table_ID[0] == ID_goal:\n",
    "    \n",
    "            accuracy = 1\n",
    "            break;\n",
    "\n",
    "    return accuracy"
   ]
  },
  {
   "cell_type": "code",
   "execution_count": 5,
   "metadata": {},
   "outputs": [],
   "source": [
    "def get_mrr(ID_goal,ranked_tables_ID):\n",
    "    \n",
    "    accuracy = 0\n",
    "    index_match = 1\n",
    "\n",
    "    for idTable in ranked_tables_ID:\n",
    "        \n",
    "        if idTable[0] == ID_goal:\n",
    "    \n",
    "            accuracy = 1/index_match\n",
    "            break;\n",
    "        \n",
    "        index_match = index_match + 1\n",
    "   \n",
    "    return accuracy"
   ]
  },
  {
   "cell_type": "code",
   "execution_count": null,
   "metadata": {},
   "outputs": [],
   "source": []
  },
  {
   "cell_type": "code",
   "execution_count": 6,
   "metadata": {},
   "outputs": [
    {
     "name": "stdout",
     "output_type": "stream",
     "text": [
      "<class 'pandas.core.frame.DataFrame'>\n",
      "RangeIndex: 948 entries, 0 to 947\n",
      "Data columns (total 8 columns):\n",
      " #   Column                    Non-Null Count  Dtype \n",
      "---  ------                    --------------  ----- \n",
      " 0   article_id                948 non-null    int64 \n",
      " 1   article_title             948 non-null    object\n",
      " 2   article_full_text         948 non-null    object\n",
      " 3   article_meta_description  948 non-null    object\n",
      " 4   article_summary           948 non-null    object\n",
      " 5   article_keywords          948 non-null    object\n",
      " 6   article_meta_key_words    662 non-null    object\n",
      " 7   article_tags              207 non-null    object\n",
      "dtypes: int64(1), object(7)\n",
      "memory usage: 59.4+ KB\n"
     ]
    }
   ],
   "source": [
    "test_articles.info()"
   ]
  },
  {
   "cell_type": "code",
   "execution_count": 7,
   "metadata": {},
   "outputs": [
    {
     "name": "stdout",
     "output_type": "stream",
     "text": [
      "<class 'pandas.core.frame.DataFrame'>\n",
      "RangeIndex: 94721 entries, 0 to 94720\n",
      "Data columns (total 5 columns):\n",
      " #   Column                   Non-Null Count  Dtype \n",
      "---  ------                   --------------  ----- \n",
      " 0   label_index              94721 non-null  int64 \n",
      " 1   table_page_id            94721 non-null  int64 \n",
      " 2   table_page_title         94721 non-null  object\n",
      " 3   table_page_main_passage  94721 non-null  object\n",
      " 4   table_page_keywords      94721 non-null  object\n",
      "dtypes: int64(2), object(3)\n",
      "memory usage: 3.6+ MB\n"
     ]
    }
   ],
   "source": [
    "fixed_index.info()"
   ]
  },
  {
   "cell_type": "code",
   "execution_count": 8,
   "metadata": {},
   "outputs": [
    {
     "name": "stderr",
     "output_type": "stream",
     "text": [
      "948it [00:58, 16.22it/s]\n",
      "948it [00:58, 16.24it/s]\n",
      "948it [00:58, 16.17it/s]\n",
      "948it [00:58, 16.25it/s]\n",
      "948it [00:59, 16.02it/s]"
     ]
    },
    {
     "name": "stdout",
     "output_type": "stream",
     "text": [
      "BM25 METHOD\n",
      "['Acc@1', '0.5158']\n",
      "['Acc@5', '0.7627']\n",
      "['Acc@10', '0.847']\n",
      "['Acc@20', '0.9135']\n",
      "['Acc@50', '0.9662']\n",
      "MRR: 0.6272\n",
      "[0.1111111111111111, 0.05, 1.0, 1.0, 0.3333333333333333, 0.5, 1.0, 1.0, 1.0, 1.0, 0.05263157894736842, 0.25, 0.047619047619047616, 1.0, 0.08333333333333333, 0.3333333333333333, 0.5, 0.5, 0.25, 0.5, 1.0, 0.2, 1.0, 0.16666666666666666, 0.07142857142857142, 0.25, 1.0, 0.5, 0, 0.25, 1.0, 0.5, 1.0, 0.05, 1.0, 0.5, 0.5, 1.0, 0.5, 0.5, 1.0, 0.05263157894736842, 0.1, 0.1111111111111111, 1.0, 0.09090909090909091, 1.0, 1.0, 1.0, 0.03125, 0, 1.0, 0.5, 0.5, 0.5, 1.0, 1.0, 0.5, 1.0, 0.09090909090909091, 0.5, 1.0, 0, 1.0, 0.08333333333333333, 0.03125, 1.0, 1.0, 1.0, 1.0, 0.3333333333333333, 1.0, 0.3333333333333333, 1.0, 1.0, 1.0, 1.0, 1.0, 0.25, 0.14285714285714285, 1.0, 1.0, 1.0, 1.0, 0.2, 1.0, 0, 0.3333333333333333, 0.029411764705882353, 0.5, 0.5, 1.0, 1.0, 0.16666666666666666, 0.5, 0.07692307692307693, 0.3333333333333333, 1.0, 0.0625, 1.0, 0.3333333333333333, 0.0625, 1.0, 1.0, 0.25, 0.2, 1.0, 1.0, 0.0625, 1.0, 1.0, 0.3333333333333333, 0.5, 1.0, 0.06666666666666667, 1.0, 0, 0.25, 0.16666666666666666, 0, 0.5, 1.0, 0.5, 0.08333333333333333, 1.0, 1.0, 0.25, 1.0, 1.0, 1.0, 1.0, 0.25, 1.0, 0.5, 1.0, 0.25, 0.5, 1.0, 0, 0.14285714285714285, 1.0, 1.0, 0.030303030303030304, 1.0, 1.0, 0.07142857142857142, 1.0, 1.0, 1.0, 1.0, 0.03571428571428571, 0.3333333333333333, 0.047619047619047616, 0.16666666666666666, 1.0, 0, 0.14285714285714285, 0.5, 1.0, 1.0, 0.5, 0.125, 1.0, 1.0, 1.0, 0.5, 1.0, 0.25, 1.0, 0.2, 1.0, 1.0, 1.0, 1.0, 0.3333333333333333, 0.25, 0.2, 1.0, 0.14285714285714285, 0.5, 0.16666666666666666, 1.0, 1.0, 1.0, 0.3333333333333333, 0.05555555555555555, 0.08333333333333333, 0.02564102564102564, 1.0, 1.0, 0.25, 0.5, 1.0, 0.5, 1.0, 0.3333333333333333, 1.0, 0.14285714285714285, 0.14285714285714285, 0, 0.2, 1.0, 1.0, 0.5, 0.5, 0.034482758620689655, 1.0, 1.0, 1.0, 1.0, 0.07142857142857142, 1.0, 0.16666666666666666, 1.0, 0.125, 1.0, 0.125, 0.3333333333333333, 1.0, 1.0, 1.0, 1.0, 1.0, 1.0, 0.043478260869565216, 1.0, 0.3333333333333333, 1.0, 1.0, 0, 1.0, 1.0, 0.14285714285714285, 0.08333333333333333, 0.07142857142857142, 1.0, 0.07692307692307693, 1.0, 1.0, 0.058823529411764705, 0.5, 0.5, 0.09090909090909091, 1.0, 0.3333333333333333, 0.5, 1.0, 0.05263157894736842, 0.2, 1.0, 1.0, 1.0, 0.5, 1.0, 1.0, 0.04, 1.0, 1.0, 1.0, 1.0, 1.0, 0.3333333333333333, 1.0, 0.2, 1.0, 0.2, 1.0, 1.0, 1.0, 0.08333333333333333, 0, 0.045454545454545456, 0.5, 0.16666666666666666, 0.2, 0, 1.0, 1.0, 1.0, 0.5, 0.25, 0.05263157894736842, 1.0, 1.0, 1.0, 1.0, 0.2, 0.5, 1.0, 1.0, 0.5, 0.1111111111111111, 1.0, 0.5, 0.5, 0.3333333333333333, 0.03333333333333333, 0.045454545454545456, 0.3333333333333333, 0.5, 1.0, 1.0, 0.1, 1.0, 0.125, 0.5, 1.0, 1.0, 1.0, 0.1, 0.16666666666666666, 0.2, 1.0, 0.16666666666666666, 0.25, 1.0, 0.14285714285714285, 1.0, 0.3333333333333333, 0.5, 1.0, 0.09090909090909091, 0.25, 0.125, 1.0, 0.043478260869565216, 0.03125, 0.25, 1.0, 0, 1.0, 1.0, 0.07142857142857142, 1.0, 1.0, 0.3333333333333333, 0.06666666666666667, 0.3333333333333333, 1.0, 1.0, 0.5, 1.0, 1.0, 0.125, 1.0, 1.0, 1.0, 0.14285714285714285, 0.06666666666666667, 0.2, 0.3333333333333333, 1.0, 0.25, 0.25, 1.0, 0.0625, 0.037037037037037035, 0.3333333333333333, 0.5, 0, 0.5, 0.2, 1.0, 1.0, 0.5, 0.038461538461538464, 0.3333333333333333, 0.09090909090909091, 1.0, 1.0, 1.0, 0, 1.0, 0.5, 1.0, 0.3333333333333333, 1.0, 1.0, 0.043478260869565216, 0.25, 0, 0.25, 0.09090909090909091, 1.0, 1.0, 1.0, 0.5, 0.03125, 0.030303030303030304, 0.037037037037037035, 0, 1.0, 0.5, 0.16666666666666666, 1.0, 1.0, 1.0, 1.0, 0.023255813953488372, 0.25, 0.5, 1.0, 1.0, 1.0, 0, 1.0, 0.3333333333333333, 0.5, 0.25, 1.0, 1.0, 1.0, 1.0, 1.0, 1.0, 1.0, 1.0, 1.0, 1.0, 1.0, 0, 1.0, 0.5, 1.0, 1.0, 0.14285714285714285, 0.5, 0.125, 1.0, 0.25, 1.0, 1.0, 1.0, 1.0, 1.0, 0.03571428571428571, 1.0, 0, 1.0, 0.3333333333333333, 0.5, 0.04, 1.0, 0.1, 1.0, 0.16666666666666666, 0.3333333333333333, 1.0, 0.08333333333333333, 1.0, 1.0, 1.0, 0.25, 1.0, 0.3333333333333333, 1.0, 0.14285714285714285, 0.2, 0.2, 1.0, 1.0, 0.07692307692307693, 0.5, 0.5, 1.0, 1.0, 0.5, 0.14285714285714285, 0, 1.0, 0.2, 1.0, 1.0, 0.5, 0.024390243902439025, 0.25, 1.0, 0.2, 0.14285714285714285, 1.0, 0.25, 0.14285714285714285, 1.0, 0.25, 1.0, 1.0, 1.0, 1.0, 1.0, 1.0, 1.0, 1.0, 0, 1.0, 1.0, 1.0, 1.0, 1.0, 0.07692307692307693, 0.3333333333333333, 1.0, 1.0, 0.5, 0.25, 1.0, 1.0, 1.0, 1.0, 1.0, 1.0, 1.0, 1.0, 1.0, 0.3333333333333333, 1.0, 0.3333333333333333, 1.0, 1.0, 0.3333333333333333, 1.0, 1.0, 1.0, 0.14285714285714285, 1.0, 0.08333333333333333, 0.16666666666666666, 1.0, 1.0, 1.0, 1.0, 0.5, 1.0, 0.2, 0.02040816326530612, 0.03125, 0.5, 1.0, 1.0, 1.0, 0.058823529411764705, 0.1111111111111111, 1.0, 1.0, 1.0, 1.0, 0.5, 0.038461538461538464, 1.0, 1.0, 1.0, 1.0, 0.14285714285714285, 1.0, 0.03333333333333333, 1.0, 0.25, 0.3333333333333333, 1.0, 1.0, 1.0, 1.0, 1.0, 1.0, 1.0, 0.038461538461538464, 0.02, 0.5, 0.125, 1.0, 1.0, 1.0, 1.0, 0.5, 1.0, 0.5, 0.0625, 0.037037037037037035, 0.5, 0.125, 1.0, 0, 0.05555555555555555, 1.0, 0.047619047619047616, 1.0, 1.0, 0, 1.0, 1.0, 1.0, 1.0, 1.0, 0, 1.0, 1.0, 1.0, 0.14285714285714285, 1.0, 1.0, 0.16666666666666666, 1.0, 1.0, 1.0, 0.14285714285714285, 1.0, 0.5, 0.2, 0.3333333333333333, 1.0, 0.25, 1.0, 0.03571428571428571, 0.125, 0.14285714285714285, 1.0, 0.5, 1.0, 0.2, 1.0, 1.0, 1.0, 1.0, 0.05, 0.5, 0.2, 1.0, 0.5, 0.14285714285714285, 0.5, 1.0, 0.3333333333333333, 1.0, 0.3333333333333333, 0.16666666666666666, 1.0, 0.16666666666666666, 0.03333333333333333, 1.0, 1.0, 1.0, 1.0, 0.5, 1.0, 0.09090909090909091, 1.0, 1.0, 1.0, 1.0, 1.0, 0.3333333333333333, 0.16666666666666666, 1.0, 1.0, 1.0, 0.037037037037037035, 1.0, 0.05263157894736842, 1.0, 0.16666666666666666, 1.0, 1.0, 0.25, 1.0, 1.0, 0.5, 0.5, 0.08333333333333333, 1.0, 1.0, 0.2, 1.0, 1.0, 0.3333333333333333, 0.125, 0.25, 0.5, 0.2, 1.0, 1.0, 0, 1.0, 0.14285714285714285, 1.0, 0.08333333333333333, 0.1111111111111111, 1.0, 0.5, 0, 1.0, 1.0, 0.3333333333333333, 1.0, 1.0, 1.0, 0.3333333333333333, 1.0, 1.0, 0.5, 1.0, 0.07692307692307693, 1.0, 0.5, 1.0, 0.25, 0.5, 1.0, 1.0, 0.16666666666666666, 1.0, 1.0, 1.0, 1.0, 1.0, 0.0625, 0.25, 1.0, 1.0, 1.0, 1.0, 0.3333333333333333, 0.16666666666666666, 0.25, 1.0, 0.06666666666666667, 1.0, 0.16666666666666666, 1.0, 1.0, 0.5, 0.3333333333333333, 1.0, 0.09090909090909091, 1.0, 1.0, 1.0, 1.0, 1.0, 1.0, 1.0, 0, 0.3333333333333333, 0.030303030303030304, 1.0, 0.14285714285714285, 0.0625, 0.3333333333333333, 1.0, 1.0, 1.0, 0.05, 1.0, 1.0, 1.0, 1.0, 0.5, 0.06666666666666667, 1.0, 1.0, 0.047619047619047616, 0.07142857142857142, 0.25, 1.0, 0.16666666666666666, 0.5, 0.5, 1.0, 0.5, 0.3333333333333333, 1.0, 0.3333333333333333, 1.0, 1.0, 0.16666666666666666, 0, 0.5, 0.25, 0.5, 1.0, 1.0, 0.030303030303030304, 1.0, 0.5, 1.0, 1.0, 1.0, 0.5, 1.0, 1.0, 1.0, 0.5, 1.0, 0.5, 1.0, 0.020833333333333332, 1.0, 0.16666666666666666, 0.3333333333333333, 1.0, 0.3333333333333333, 1.0, 0.14285714285714285, 0.25, 0.021739130434782608, 0.5, 1.0, 1.0, 1.0, 0.5, 0.16666666666666666, 1.0, 1.0, 1.0, 1.0, 0.047619047619047616, 0, 1.0, 1.0, 0.5, 0.125, 0.3333333333333333, 1.0, 1.0, 0.2, 1.0, 1.0, 1.0, 1.0, 0.04, 1.0, 1.0, 1.0, 0.25, 0.3333333333333333, 1.0, 0.5, 1.0, 0.037037037037037035, 1.0, 1.0, 1.0, 1.0, 1.0, 1.0, 1.0, 1.0, 0.08333333333333333, 0.5, 1.0, 0.3333333333333333, 1.0, 0.09090909090909091, 1.0, 1.0, 0.3333333333333333, 1.0, 0.058823529411764705, 1.0, 1.0, 0.09090909090909091, 1.0, 0, 1.0, 1.0, 1.0, 0.1111111111111111, 1.0, 1.0, 1.0, 1.0, 0.16666666666666666, 0.16666666666666666, 0.25, 0.07142857142857142, 1.0, 1.0, 1.0, 0.3333333333333333, 0.2, 0.125, 0.5, 0.5, 1.0, 0.023255813953488372, 1.0, 1.0, 1.0, 1.0, 0.5, 0.5, 1.0, 1.0, 1.0, 0.25, 0.25, 0.125, 0.025, 0.1, 0.02702702702702703, 1.0, 0.2, 1.0, 0.14285714285714285, 0.5, 1.0, 0.5, 1.0, 1.0, 0.25, 1.0, 1.0, 1.0, 0.1, 1.0, 0.14285714285714285, 1.0, 0.05, 1.0, 1.0, 0.16666666666666666, 0.02857142857142857, 1.0, 0.058823529411764705, 0.3333333333333333, 0.25, 0.2, 0, 1.0, 1.0, 1.0, 0.16666666666666666, 0.5, 1.0, 1.0, 1.0, 0.07692307692307693, 1.0, 0.14285714285714285, 1.0, 0.045454545454545456, 1.0, 1.0, 1.0, 1.0, 0.08333333333333333, 0.25, 0.5, 1.0, 1.0]\n",
      "\n"
     ]
    },
    {
     "name": "stderr",
     "output_type": "stream",
     "text": [
      "\n"
     ]
    }
   ],
   "source": [
    "evaluate_topk = [1,5,10,20,50]\n",
    "\n",
    "result = []\n",
    "\n",
    "#evaluating each topk value\n",
    "for TOP_K in evaluate_topk:\n",
    "\n",
    "    accuracy = []\n",
    "    mrr = []\n",
    "\n",
    "    for i, row in tqdm(test_articles.iterrows()):\n",
    "\n",
    "        #current article values\n",
    "        article_ID = row['article_id']\n",
    "        article_title_text = str(row['article_title'])\n",
    "        article_meta_description_text = str(row['article_meta_description'])\n",
    "        article_keywords_text = str(row['article_keywords'])\n",
    "\n",
    "        #embedding and model variables\n",
    "        table_corpus1 = []\n",
    "        table_corpus2 = []\n",
    "        table_corpus3 = []\n",
    "        ranked_tables_model = []\n",
    "\n",
    "        #return index\n",
    "        return_index = fixed_index.loc[fixed_index['label_index'] == row['article_id']]\n",
    "        \n",
    "\n",
    "        #creating embedding1 \n",
    "        for i, row in return_index.iterrows():\n",
    "            \n",
    "            table_corpus1.append(str(row['table_page_title']))\n",
    "              \n",
    "        tokenized_corpus = [doc.split(\" \") for doc in table_corpus1]\n",
    "        bm25 = BM25Okapi(tokenized_corpus)\n",
    "        \n",
    "        tokenized_query = (article_title_text).split(\" \")\n",
    "        distance_vector1 = bm25.get_scores(tokenized_query)\n",
    "        \n",
    "        #creating embedding2 \n",
    "        for i, row in return_index.iterrows():\n",
    "            \n",
    "            table_corpus2.append(str(row['table_page_main_passage']))\n",
    "              \n",
    "        tokenized_corpus = [doc.split(\" \") for doc in table_corpus2]\n",
    "        bm25 = BM25Okapi(tokenized_corpus)\n",
    "        \n",
    "        tokenized_query = (article_meta_description_text).split(\" \")\n",
    "        distance_vector2 = bm25.get_scores(tokenized_query)\n",
    "        \n",
    "        #creating embedding3 \n",
    "        for i, row in return_index.iterrows():\n",
    "            \n",
    "            table_corpus3.append(str(row['table_page_keywords']))\n",
    "              \n",
    "        tokenized_corpus = [doc.split(\" \") for doc in table_corpus3]\n",
    "        bm25 = BM25Okapi(tokenized_corpus)\n",
    "        \n",
    "        tokenized_query = (article_keywords_text).split(\" \")\n",
    "        distance_vector3 = bm25.get_scores(tokenized_query)\n",
    "        \n",
    "        \n",
    "        final_vector = (np.array(distance_vector1) + np.array(distance_vector2) + np.array(distance_vector3)) / 3.0\n",
    "        \n",
    "        \n",
    "        \n",
    "        #creating the final dataframe\n",
    "        for i in range(0,len(final_vector)):\n",
    "\n",
    "            ranked_tables_model.append([return_index.iloc[i]['table_page_id'],return_index.iloc[i]['table_page_title'],final_vector[i]]) \n",
    "\n",
    "        data_frame = pd.DataFrame(ranked_tables_model, columns = ['table_ID', 'table_title','table_ranking']) \n",
    "        data_frame_sorting = data_frame.sort_values('table_ranking', ascending=False)\n",
    "        \n",
    "        selected_top = data_frame_sorting.head(TOP_K)\n",
    "#         min_score = selected_top['table_ranking'].min()\n",
    "#         draw_tables_socres = data_frame_sorting[data_frame_sorting['table_ranking'] >= min_score]\n",
    "        final_ranked_tables = selected_top.iloc[:,0:1].values\n",
    "\n",
    "        #getting topk accuracy\n",
    "        accuracy.append(get_accuracy(article_ID, final_ranked_tables))\n",
    "\n",
    "        #testing mean reciprocal rank at k = 50\n",
    "        if TOP_K == 50:\n",
    "\n",
    "            mrr.append(get_mrr(article_ID, final_ranked_tables))\n",
    "\n",
    "    result.append([\"Acc@\"+str(TOP_K),str(round(np.mean(accuracy),4))])\n",
    "\n",
    "print(\"BM25 METHOD\")\n",
    "print(result[0])\n",
    "print(result[1])\n",
    "print(result[2])\n",
    "print(result[3])\n",
    "print(result[4])\n",
    "print(\"MRR: \"+str(round(np.mean(mrr),4)) )\n",
    "print(mrr)\n",
    "print(\"\")"
   ]
  },
  {
   "cell_type": "code",
   "execution_count": null,
   "metadata": {},
   "outputs": [],
   "source": []
  },
  {
   "cell_type": "code",
   "execution_count": null,
   "metadata": {},
   "outputs": [],
   "source": []
  },
  {
   "cell_type": "code",
   "execution_count": null,
   "metadata": {},
   "outputs": [],
   "source": []
  },
  {
   "cell_type": "code",
   "execution_count": null,
   "metadata": {},
   "outputs": [],
   "source": []
  },
  {
   "cell_type": "code",
   "execution_count": null,
   "metadata": {},
   "outputs": [],
   "source": []
  },
  {
   "cell_type": "code",
   "execution_count": null,
   "metadata": {},
   "outputs": [],
   "source": []
  }
 ],
 "metadata": {
  "kernelspec": {
   "display_name": "Python 3",
   "language": "python",
   "name": "python3"
  },
  "language_info": {
   "codemirror_mode": {
    "name": "ipython",
    "version": 3
   },
   "file_extension": ".py",
   "mimetype": "text/x-python",
   "name": "python",
   "nbconvert_exporter": "python",
   "pygments_lexer": "ipython3",
   "version": "3.6.10"
  }
 },
 "nbformat": 4,
 "nbformat_minor": 2
}
