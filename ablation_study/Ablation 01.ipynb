{
 "cells": [
  {
   "cell_type": "code",
   "execution_count": null,
   "metadata": {},
   "outputs": [],
   "source": [
    "import numpy as np\n",
    "import pandas as pd\n",
    "from tqdm import tqdm\n",
    "import gensim as gs\n",
    "from nltk.tokenize import TweetTokenizer\n",
    "tknzr = TweetTokenizer()\n",
    "import tensorflow as tf\n",
    "from transformers import TFBertModel, BertTokenizer, TFBertMainLayer, BertConfig"
   ]
  },
  {
   "cell_type": "code",
   "execution_count": null,
   "metadata": {},
   "outputs": [],
   "source": []
  },
  {
   "cell_type": "code",
   "execution_count": null,
   "metadata": {},
   "outputs": [],
   "source": []
  },
  {
   "cell_type": "code",
   "execution_count": null,
   "metadata": {},
   "outputs": [],
   "source": []
  },
  {
   "cell_type": "code",
   "execution_count": null,
   "metadata": {},
   "outputs": [],
   "source": []
  },
  {
   "cell_type": "code",
   "execution_count": null,
   "metadata": {},
   "outputs": [],
   "source": [
    "MAX_TOKENS = 250"
   ]
  },
  {
   "cell_type": "code",
   "execution_count": null,
   "metadata": {},
   "outputs": [],
   "source": []
  },
  {
   "cell_type": "code",
   "execution_count": null,
   "metadata": {},
   "outputs": [],
   "source": []
  },
  {
   "cell_type": "code",
   "execution_count": null,
   "metadata": {},
   "outputs": [],
   "source": [
    "train_dataset = pd.read_csv('../../../train_data/train_data_T.csv', delimiter=',')\n",
    "validation_dataset = pd.read_csv('../../../train_data/validation_data_T.csv', delimiter=',')"
   ]
  },
  {
   "cell_type": "code",
   "execution_count": null,
   "metadata": {},
   "outputs": [],
   "source": []
  },
  {
   "cell_type": "code",
   "execution_count": null,
   "metadata": {},
   "outputs": [],
   "source": [
    "# train_dataset = train_dataset.head(10)\n",
    "# validation_dataset = validation_dataset.head(10)"
   ]
  },
  {
   "cell_type": "code",
   "execution_count": null,
   "metadata": {},
   "outputs": [],
   "source": []
  },
  {
   "cell_type": "code",
   "execution_count": null,
   "metadata": {},
   "outputs": [],
   "source": []
  },
  {
   "cell_type": "code",
   "execution_count": null,
   "metadata": {},
   "outputs": [],
   "source": []
  },
  {
   "cell_type": "code",
   "execution_count": null,
   "metadata": {},
   "outputs": [],
   "source": []
  },
  {
   "cell_type": "code",
   "execution_count": null,
   "metadata": {},
   "outputs": [],
   "source": []
  },
  {
   "cell_type": "code",
   "execution_count": null,
   "metadata": {},
   "outputs": [],
   "source": []
  },
  {
   "cell_type": "code",
   "execution_count": null,
   "metadata": {},
   "outputs": [],
   "source": []
  },
  {
   "cell_type": "code",
   "execution_count": null,
   "metadata": {},
   "outputs": [],
   "source": []
  },
  {
   "cell_type": "code",
   "execution_count": null,
   "metadata": {},
   "outputs": [],
   "source": []
  },
  {
   "cell_type": "code",
   "execution_count": null,
   "metadata": {},
   "outputs": [],
   "source": [
    "# fast text embedding"
   ]
  },
  {
   "cell_type": "code",
   "execution_count": null,
   "metadata": {},
   "outputs": [],
   "source": [
    "# embedding_model = gs.models.FastText.load('../../train_embedding_models/fasttext_embedding_50d_all_signals')\n",
    "embedding_model = gs.models.FastText.load_fasttext_format('../../../pre_trained_models/cc.en.300.bin')"
   ]
  },
  {
   "cell_type": "code",
   "execution_count": null,
   "metadata": {},
   "outputs": [],
   "source": [
    "MAX_PAD_TITLE = 30\n",
    "\n",
    "def sequence_padding_title(X_DIM, value):\n",
    "    \n",
    "    value_padding = np.pad(value, ((0,MAX_PAD_TITLE - X_DIM),(0,0)), 'constant')\n",
    "    \n",
    "    return value_padding"
   ]
  },
  {
   "cell_type": "code",
   "execution_count": null,
   "metadata": {},
   "outputs": [],
   "source": [
    "def create_embedding_title(value):\n",
    "\n",
    "    value = tknzr.tokenize(str(value))\n",
    "    \n",
    "    if len(value) < MAX_PAD_TITLE:\n",
    "        \n",
    "        embedding = embedding_model.wv[value]\n",
    "        embedding = embedding.astype('float16')\n",
    "        \n",
    "        padding_embedding = sequence_padding_title(embedding.shape[0],embedding)\n",
    "        \n",
    "        return padding_embedding\n",
    "        \n",
    "    else:\n",
    "        \n",
    "        embedding = embedding_model.wv[value[0:MAX_PAD_TITLE]]\n",
    "        embedding = embedding.astype('float16')\n",
    "        \n",
    "        return embedding"
   ]
  },
  {
   "cell_type": "code",
   "execution_count": null,
   "metadata": {},
   "outputs": [],
   "source": []
  },
  {
   "cell_type": "code",
   "execution_count": null,
   "metadata": {},
   "outputs": [],
   "source": [
    "MAX_PAD_MAIN_PASSAGE = 55\n",
    "\n",
    "def sequence_padding_main_passage(X_DIM, value):\n",
    "    \n",
    "    value_padding = np.pad(value, ((0,MAX_PAD_MAIN_PASSAGE - X_DIM),(0,0)), 'constant')\n",
    "    \n",
    "    return value_padding"
   ]
  },
  {
   "cell_type": "code",
   "execution_count": null,
   "metadata": {},
   "outputs": [],
   "source": [
    "def create_embedding_main_passage(value):\n",
    "\n",
    "    value = tknzr.tokenize(str(value))\n",
    "    \n",
    "    if len(value) < MAX_PAD_MAIN_PASSAGE:\n",
    "        \n",
    "        embedding = embedding_model.wv[value]\n",
    "        embedding = embedding.astype('float16')\n",
    "        \n",
    "        padding_embedding = sequence_padding_main_passage(embedding.shape[0],embedding)\n",
    "        \n",
    "        return padding_embedding\n",
    "        \n",
    "    else:\n",
    "        \n",
    "        embedding = embedding_model.wv[value[0:MAX_PAD_MAIN_PASSAGE]]\n",
    "        embedding = embedding.astype('float16')\n",
    "        \n",
    "        return embedding"
   ]
  },
  {
   "cell_type": "code",
   "execution_count": null,
   "metadata": {},
   "outputs": [],
   "source": []
  },
  {
   "cell_type": "code",
   "execution_count": null,
   "metadata": {},
   "outputs": [],
   "source": []
  },
  {
   "cell_type": "code",
   "execution_count": null,
   "metadata": {},
   "outputs": [],
   "source": []
  },
  {
   "cell_type": "code",
   "execution_count": null,
   "metadata": {},
   "outputs": [],
   "source": [
    "train_article_title = []\n",
    "train_article_main_passage = []\n",
    "train_article_keywords = []\n",
    "\n",
    "train_table_title = []\n",
    "train_table_main_passage = []\n",
    "train_table_keywords = []\n",
    "\n",
    "train_label = []\n",
    "\n",
    "for i,row in tqdm(train_dataset.iterrows()):\n",
    "    \n",
    "    train_article_title.append(create_embedding_title(row['article_page_title']))\n",
    "    train_table_title.append(create_embedding_title(row['table_page_title']))\n",
    "    \n",
    "    train_article_main_passage.append(create_embedding_main_passage(row['article_meta_description']))\n",
    "    train_table_main_passage.append(create_embedding_main_passage(row['table_page_summary']))\n",
    "    \n",
    "    train_article_keywords.append(create_embedding_title(row['article_keywords']))\n",
    "    train_table_keywords.append(create_embedding_title(row['table_page_keywords']))\n",
    "    \n",
    "    train_label.append((row['label']))"
   ]
  },
  {
   "cell_type": "code",
   "execution_count": null,
   "metadata": {},
   "outputs": [],
   "source": [
    "train_article_title = np.array(train_article_title, dtype='float16')\n",
    "train_table_title = np.array(train_table_title, dtype='float16')\n",
    "train_article_main_passage = np.array(train_article_main_passage, dtype='float16')\n",
    "train_table_main_passage = np.array(train_table_main_passage, dtype='float16')\n",
    "train_article_keywords = np.array(train_article_keywords, dtype='float16')\n",
    "train_table_keywords = np.array(train_table_keywords, dtype='float16')\n",
    "\n",
    "train_label = np.array(train_label)"
   ]
  },
  {
   "cell_type": "code",
   "execution_count": null,
   "metadata": {},
   "outputs": [],
   "source": []
  },
  {
   "cell_type": "code",
   "execution_count": null,
   "metadata": {},
   "outputs": [],
   "source": [
    "validation_article_title = []\n",
    "validation_article_main_passage = []\n",
    "validation_article_keywords = []\n",
    "\n",
    "validation_table_title = []\n",
    "validation_table_main_passage = []\n",
    "validation_table_keywords = []\n",
    "\n",
    "validation_label = []\n",
    "\n",
    "for i, row in tqdm(validation_dataset.iterrows()):\n",
    "    \n",
    "    validation_article_title.append(create_embedding_title(row['article_page_title']))\n",
    "    validation_table_title.append(create_embedding_title(row['table_page_title']))  \n",
    "    \n",
    "    validation_article_main_passage.append(create_embedding_main_passage(row['article_meta_description']))\n",
    "    validation_table_main_passage.append(create_embedding_main_passage(row['table_page_summary']))\n",
    "    \n",
    "    validation_article_keywords.append(create_embedding_title(row['article_keywords']))\n",
    "    validation_table_keywords.append(create_embedding_title(row['table_page_keywords']))\n",
    "    \n",
    "    validation_label.append((row['label']))"
   ]
  },
  {
   "cell_type": "code",
   "execution_count": null,
   "metadata": {},
   "outputs": [],
   "source": [
    "validation_article_title = np.array(validation_article_title, dtype='float16')\n",
    "validation_article_main_passage = np.array(validation_article_main_passage, dtype='float16')\n",
    "validation_table_title = np.array(validation_table_title, dtype='float16')\n",
    "validation_table_main_passage = np.array(validation_table_main_passage, dtype='float16')\n",
    "validation_article_keywords = np.array(validation_article_keywords, dtype='float16')\n",
    "validation_table_keywords = np.array(validation_table_keywords, dtype='float16')\n",
    "\n",
    "validation_label = np.array(validation_label)"
   ]
  },
  {
   "cell_type": "code",
   "execution_count": null,
   "metadata": {},
   "outputs": [],
   "source": []
  },
  {
   "cell_type": "code",
   "execution_count": null,
   "metadata": {},
   "outputs": [],
   "source": [
    "embedding_model = []"
   ]
  },
  {
   "cell_type": "code",
   "execution_count": null,
   "metadata": {},
   "outputs": [],
   "source": []
  },
  {
   "cell_type": "code",
   "execution_count": null,
   "metadata": {},
   "outputs": [],
   "source": []
  },
  {
   "cell_type": "code",
   "execution_count": null,
   "metadata": {},
   "outputs": [],
   "source": [
    "article_title = tf.keras.Input(shape=(MAX_PAD_TITLE,300), dtype='float32')\n",
    "article_main_passage = tf.keras.Input(shape=(MAX_PAD_MAIN_PASSAGE,300), dtype='float32')\n",
    "article_keywords = tf.keras.Input(shape=(MAX_PAD_TITLE,300), dtype='float32')\n",
    "\n",
    "table_title = tf.keras.Input(shape=(MAX_PAD_TITLE,300), dtype='float32')\n",
    "table_main_passage = tf.keras.Input(shape=(MAX_PAD_MAIN_PASSAGE,300), dtype='float32')\n",
    "table_keywords = tf.keras.Input(shape=(MAX_PAD_TITLE,300), dtype='float32')\n",
    "\n",
    "# article and tables signal representations\n",
    "rep_article_title = tf.keras.layers.Bidirectional(tf.keras.layers.GRU(32, return_sequences=True))(article_title)\n",
    "rep_article_text = tf.keras.layers.Bidirectional(tf.keras.layers.GRU(32, return_sequences=True))(article_main_passage)\n",
    "rep_article_keywords = tf.keras.layers.Bidirectional(tf.keras.layers.GRU(32, return_sequences=True))(article_keywords)\n",
    "\n",
    "rep_table_title = tf.keras.layers.Bidirectional(tf.keras.layers.GRU(32, return_sequences=True))(table_title)\n",
    "rep_table_text = tf.keras.layers.Bidirectional(tf.keras.layers.GRU(32, return_sequences=True))(table_main_passage)\n",
    "rep_table_keywords = tf.keras.layers.Bidirectional(tf.keras.layers.GRU(32, return_sequences=True))(table_keywords)\n",
    "\n",
    "\n",
    "vector_A_title = tf.keras.layers.Flatten()(rep_article_title)\n",
    "vector_A_Text = tf.keras.layers.Flatten()(rep_article_text)\n",
    "vector_A_keywords = tf.keras.layers.Flatten()(rep_article_keywords)\n",
    "\n",
    "vector_T_title = tf.keras.layers.Flatten()(rep_table_title)\n",
    "vector_T_Text = tf.keras.layers.Flatten()(rep_table_text)\n",
    "vector_T_keywords = tf.keras.layers.Flatten()(rep_table_keywords)\n",
    "\n",
    "\n",
    "#learned vector\n",
    "final_vector = tf.keras.layers.Concatenate()([vector_A_title,vector_A_Text,vector_A_keywords,vector_T_title,vector_T_Text,vector_T_keywords])\n",
    "    \n",
    "MLP_input = tf.keras.layers.Dense(512, activation='relu')(final_vector)\n",
    "dropout1 = tf.keras.layers.Dropout(0.5, name=\"dropout1\")(MLP_input)\n",
    "MLP_hidden = tf.keras.layers.Dense(256, activation='relu')(dropout1)\n",
    "dropout2 = tf.keras.layers.Dropout(0.5, name=\"dropout2\")(MLP_hidden)\n",
    "MLP_output = tf.keras.layers.Dense(1,activation='sigmoid')(dropout2)\n",
    "\n",
    "model = tf.keras.Model(inputs=[article_title, article_main_passage, article_keywords, table_title, table_main_passage, table_keywords],outputs=MLP_output)  "
   ]
  },
  {
   "cell_type": "code",
   "execution_count": null,
   "metadata": {},
   "outputs": [],
   "source": [
    "optimizer = tf.keras.optimizers.Adam(learning_rate=2e-5)"
   ]
  },
  {
   "cell_type": "code",
   "execution_count": null,
   "metadata": {},
   "outputs": [],
   "source": [
    "model.compile(loss=\"binary_crossentropy\",optimizer=optimizer, metrics=['accuracy'])"
   ]
  },
  {
   "cell_type": "code",
   "execution_count": null,
   "metadata": {},
   "outputs": [],
   "source": [
    "model.summary()"
   ]
  },
  {
   "cell_type": "code",
   "execution_count": null,
   "metadata": {},
   "outputs": [],
   "source": [
    "filepath=\"ablation_model01_{epoch:02d}_{val_accuracy:.4f}.h5\"\n",
    "checkpoint = tf.keras.callbacks.ModelCheckpoint(filepath, monitor='val_accuracy', verbose=1, save_format='tf', save_best_only=True, mode='max')\n",
    "callbacks_list = [checkpoint]"
   ]
  },
  {
   "cell_type": "code",
   "execution_count": null,
   "metadata": {},
   "outputs": [],
   "source": [
    "history = model.fit(\n",
    "    [train_article_title,\n",
    "    train_article_main_passage,\n",
    "    train_article_keywords,\n",
    "    train_table_title,\n",
    "    train_table_main_passage,\n",
    "    train_table_keywords], \n",
    "    train_label, \n",
    "    epochs=100, \n",
    "    batch_size=16,\n",
    "    verbose=1,\n",
    "    validation_data=(\n",
    "    [validation_article_title,\n",
    "    validation_article_main_passage,\n",
    "    validation_article_keywords,\n",
    "    validation_table_title,\n",
    "    validation_table_main_passage,\n",
    "    validation_table_keywords], \n",
    "    validation_label),\n",
    "    callbacks=callbacks_list)"
   ]
  },
  {
   "cell_type": "code",
   "execution_count": null,
   "metadata": {},
   "outputs": [],
   "source": [
    " "
   ]
  },
  {
   "cell_type": "code",
   "execution_count": null,
   "metadata": {},
   "outputs": [],
   "source": []
  },
  {
   "cell_type": "code",
   "execution_count": null,
   "metadata": {},
   "outputs": [],
   "source": []
  },
  {
   "cell_type": "code",
   "execution_count": null,
   "metadata": {},
   "outputs": [],
   "source": []
  },
  {
   "cell_type": "code",
   "execution_count": null,
   "metadata": {},
   "outputs": [],
   "source": []
  }
 ],
 "metadata": {
  "kernelspec": {
   "display_name": "Python 3",
   "language": "python",
   "name": "python3"
  },
  "language_info": {
   "codemirror_mode": {
    "name": "ipython",
    "version": 3
   },
   "file_extension": ".py",
   "mimetype": "text/x-python",
   "name": "python",
   "nbconvert_exporter": "python",
   "pygments_lexer": "ipython3",
   "version": "3.6.10"
  }
 },
 "nbformat": 4,
 "nbformat_minor": 2
}
