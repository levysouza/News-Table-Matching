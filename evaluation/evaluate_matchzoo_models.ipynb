{
 "cells": [
  {
   "cell_type": "code",
   "execution_count": null,
   "metadata": {},
   "outputs": [],
   "source": [
    "from tqdm import tqdm\n",
    "import numpy as np\n",
    "import pandas as pd\n",
    "import random\n",
    "import tensorflow as tf\n",
    "import warnings\n",
    "from nltk.tokenize import TweetTokenizer\n",
    "tknzr = TweetTokenizer()\n",
    "warnings.filterwarnings('ignore')\n",
    "import matchzoo as mz"
   ]
  },
  {
   "cell_type": "code",
   "execution_count": null,
   "metadata": {},
   "outputs": [],
   "source": []
  },
  {
   "cell_type": "code",
   "execution_count": null,
   "metadata": {},
   "outputs": [],
   "source": [
    "test_articles = pd.read_csv('../dataset/test_articles_ourdata.csv', delimiter=',')"
   ]
  },
  {
   "cell_type": "code",
   "execution_count": null,
   "metadata": {},
   "outputs": [],
   "source": [
    "fixed_index = pd.read_csv('../dataset/fixed_test_set_ourdata.csv', delimiter=',')"
   ]
  },
  {
   "cell_type": "code",
   "execution_count": null,
   "metadata": {},
   "outputs": [],
   "source": []
  },
  {
   "cell_type": "code",
   "execution_count": null,
   "metadata": {},
   "outputs": [],
   "source": []
  },
  {
   "cell_type": "code",
   "execution_count": null,
   "metadata": {},
   "outputs": [],
   "source": [
    "glove_embedding = mz.datasets.embeddings.load_glove_embedding(dimension=300)"
   ]
  },
  {
   "cell_type": "code",
   "execution_count": null,
   "metadata": {},
   "outputs": [],
   "source": [
    "train_dataset = pd.read_csv('../train_data/train_data_T.csv', delimiter=',')\n",
    "train_dataset = train_dataset.replace(np.nan, ' ', regex=True)"
   ]
  },
  {
   "cell_type": "code",
   "execution_count": null,
   "metadata": {},
   "outputs": [],
   "source": [
    "list_data1 = []\n",
    "for i, row in train_dataset.iterrows():\n",
    "    \n",
    "    line1 = {'id_left': str(row['article_id']),\n",
    "            'text_left':str(row['article_page_title'])+\" \"+str(row['article_meta_description'])+\" \"+str(row['article_keywords']),\n",
    "            'id_right':str(row['table_id']),\n",
    "            'text_right':str(row['table_page_title'])+\" \"+str(row['table_page_summary'])+\" \"+str(row['table_page_keywords']),\n",
    "            'label':row['label']\n",
    "           }\n",
    "    \n",
    "    list_data1.append(line1)\n",
    "\n",
    "df1 = pd.DataFrame(list_data1)\n",
    "train_pack = mz.pack(df1)"
   ]
  },
  {
   "cell_type": "code",
   "execution_count": null,
   "metadata": {},
   "outputs": [],
   "source": [
    "preprocessor = mz.preprocessors.BasicPreprocessor(fixed_length_left=130, fixed_length_right=130, remove_stop_words=True)\n",
    "train_processed = preprocessor.fit_transform(train_pack, verbose=0)"
   ]
  },
  {
   "cell_type": "code",
   "execution_count": null,
   "metadata": {},
   "outputs": [],
   "source": [
    "embedding_matrix = glove_embedding.build_matrix(preprocessor.context['vocab_unit'].state['term_index'])"
   ]
  },
  {
   "cell_type": "code",
   "execution_count": null,
   "metadata": {},
   "outputs": [],
   "source": []
  },
  {
   "cell_type": "code",
   "execution_count": null,
   "metadata": {},
   "outputs": [],
   "source": []
  },
  {
   "cell_type": "code",
   "execution_count": null,
   "metadata": {},
   "outputs": [],
   "source": [
    "def get_accuracy(ID_goal,ranked_tables_ID):\n",
    "    \n",
    "    accuracy = 0\n",
    "    \n",
    "    for table_ID in ranked_tables_ID:\n",
    "        \n",
    "        if table_ID[0] == ID_goal:\n",
    "    \n",
    "            accuracy = 1\n",
    "            break;\n",
    "\n",
    "    return accuracy"
   ]
  },
  {
   "cell_type": "code",
   "execution_count": null,
   "metadata": {},
   "outputs": [],
   "source": [
    "def get_mrr(ID_goal,ranked_tables_ID):\n",
    "    \n",
    "    accuracy = 0\n",
    "    index_match = 1\n",
    "\n",
    "    for idTable in ranked_tables_ID:\n",
    "        \n",
    "        if idTable[0] == ID_goal:\n",
    "    \n",
    "            accuracy = 1/index_match\n",
    "            break;\n",
    "        \n",
    "        index_match = index_match + 1\n",
    "   \n",
    "    return accuracy"
   ]
  },
  {
   "cell_type": "code",
   "execution_count": null,
   "metadata": {},
   "outputs": [],
   "source": []
  },
  {
   "cell_type": "code",
   "execution_count": null,
   "metadata": {},
   "outputs": [],
   "source": []
  },
  {
   "cell_type": "code",
   "execution_count": null,
   "metadata": {},
   "outputs": [],
   "source": [
    "evaluate_models = []\n",
    "# evaluate_models.append('03_ARCI/ARCI_result_title_main_passage_keywords/ARCI_title_main_passage_keywords8')\n",
    "# evaluate_models.append('04_ARCII/ARCII_result_title_main_passage_keywords/ARCII_title_main_passage_keywords1')\n",
    "# evaluate_models.append('05_MVLSTM/MVLSTM_result_title_main_passage_keywords/MVLSTM_title_main_passage_keywords8')\n",
    "evaluate_models.append('09_KNRM/KNRM_result_title_main_passage_keywords/KNRM_title_main_passage_keywords13')\n",
    "evaluate_models.append('11_CONVKNRM/CONVKNRM_result_title_main_passage_keywords/CONVKNRM_title_main_passage_keywords8')\n",
    "evaluate_models.append('10_DUET/DUET_result_title_main_passage_keywords/DUET_title_main_passage_keywords99')"
   ]
  },
  {
   "cell_type": "code",
   "execution_count": null,
   "metadata": {},
   "outputs": [],
   "source": [
    "test_articles.info()"
   ]
  },
  {
   "cell_type": "code",
   "execution_count": null,
   "metadata": {},
   "outputs": [],
   "source": [
    "with tf.device(\"/cpu:0\"):\n",
    "    \n",
    "    evaluate_topk = [1,5,10,20,50]\n",
    "\n",
    "    for i in range(0,len(evaluate_models)):\n",
    "        \n",
    "        result = []\n",
    "\n",
    "        print(\"current_model: \"+ evaluate_models[i])\n",
    "\n",
    "        #loading the current model\n",
    "        ranking_model = mz.load_model(evaluate_models[i])\n",
    "        ranking_model.load_embedding_matrix(embedding_matrix)\n",
    "\n",
    "        #evaluating each topk value\n",
    "        for TOP_K in evaluate_topk:\n",
    "            \n",
    "            accuracy = []\n",
    "            mrr = []\n",
    "            \n",
    "            for i, row in (test_articles.iterrows()):\n",
    "\n",
    "                #current article values\n",
    "                article_ID = row['article_id']\n",
    "                article_title_text = row['article_title']\n",
    "                article_main_passage_text = str(row['article_meta_description'])\n",
    "                article_title_keywords_text = str(row['article_keywords'])\n",
    "\n",
    "                #embedding and model variables\n",
    "                article_title = []\n",
    "                title_table = []\n",
    "                ranked_tables_model = []\n",
    "                class_list = []\n",
    "\n",
    "                #return index\n",
    "                return_index = fixed_index.loc[fixed_index['label_index'] == row['article_id']]\n",
    "\n",
    "                #creating embedding \n",
    "                for i, row in return_index.iterrows():\n",
    "\n",
    "                    line = {'id_left': article_ID,\n",
    "                         'text_left':article_title_text+\" \"+article_main_passage_text+\" \"+article_title_keywords_text,\n",
    "                         'id_right':row['table_page_id'],\n",
    "                         'text_right':row['table_page_title']+\" \"+str(row['table_page_main_passage'])+\" \"+str(row['table_page_keywords'])\n",
    "                        }\n",
    "\n",
    "                    class_list.append(line)\n",
    "\n",
    "                df2 = pd.DataFrame(class_list)\n",
    "                test_pack = mz.pack(df2)\n",
    "                valid_processed = preprocessor.transform(test_pack, verbose=0)\n",
    "                test_x, test_y = valid_processed.unpack()\n",
    "\n",
    "                table_ranking_model = ranking_model.predict(test_x)\n",
    "\n",
    "                #creating the final dataframe\n",
    "                for i in range(0,len(table_ranking_model)):\n",
    "\n",
    "                    ranked_tables_model.append([return_index.iloc[i]['table_page_id'],return_index.iloc[i]['table_page_title'],table_ranking_model[i][0]]) \n",
    "\n",
    "                data_frame = pd.DataFrame(ranked_tables_model, columns = ['table_ID', 'table_title','table_ranking']) \n",
    "                data_frame_sorting = data_frame.sort_values('table_ranking', ascending=False)  \n",
    "\n",
    "                selected_top = data_frame_sorting.head(TOP_K)\n",
    "#                 min_score = selected_top['table_ranking'].min()\n",
    "#                 draw_tables_socres = data_frame_sorting[data_frame_sorting['table_ranking'] >= min_score]\n",
    "                final_ranked_tables = selected_top.iloc[:,0:1].values\n",
    "                \n",
    "                \n",
    "                #getting topk accuracy\n",
    "                accuracy.append(get_accuracy(article_ID, final_ranked_tables))\n",
    "                \n",
    "                #testing mean reciprocal rank at k = 50\n",
    "                if TOP_K == 50:\n",
    "                    \n",
    "                    mrr.append(get_mrr(article_ID, final_ranked_tables))\n",
    "                \n",
    "            result.append([\"Acc@\"+str(TOP_K),str(round(np.mean(accuracy),4))])\n",
    "        \n",
    "        print(\"\")\n",
    "        print(result[0])\n",
    "        print(result[1])\n",
    "        print(result[2])\n",
    "        print(result[3])\n",
    "        print(result[4])\n",
    "        print(\"MRR: \"+str(round(np.mean(mrr),4)) )\n",
    "        print(mrr)\n",
    "        print(\"\")"
   ]
  },
  {
   "cell_type": "code",
   "execution_count": null,
   "metadata": {},
   "outputs": [],
   "source": []
  },
  {
   "cell_type": "code",
   "execution_count": null,
   "metadata": {},
   "outputs": [],
   "source": []
  },
  {
   "cell_type": "code",
   "execution_count": null,
   "metadata": {},
   "outputs": [],
   "source": []
  }
 ],
 "metadata": {
  "kernelspec": {
   "display_name": "Python 3",
   "language": "python",
   "name": "python3"
  },
  "language_info": {
   "codemirror_mode": {
    "name": "ipython",
    "version": 3
   },
   "file_extension": ".py",
   "mimetype": "text/x-python",
   "name": "python",
   "nbconvert_exporter": "python",
   "pygments_lexer": "ipython3",
   "version": "3.7.7"
  }
 },
 "nbformat": 4,
 "nbformat_minor": 2
}
