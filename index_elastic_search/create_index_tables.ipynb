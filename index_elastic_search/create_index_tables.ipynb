{
 "cells": [
  {
   "cell_type": "code",
   "execution_count": 1,
   "metadata": {},
   "outputs": [],
   "source": [
    "from tqdm import tqdm\n",
    "import numpy as np\n",
    "import pandas as pd\n",
    "import random\n",
    "from elasticsearch import Elasticsearch\n",
    "from elasticsearch import helpers\n",
    "indexing_distinct_tables = Elasticsearch()"
   ]
  },
  {
   "cell_type": "code",
   "execution_count": null,
   "metadata": {},
   "outputs": [],
   "source": []
  },
  {
   "cell_type": "code",
   "execution_count": 2,
   "metadata": {},
   "outputs": [],
   "source": [
    "# reading the distinct tables all signals from crawler newspaper\n",
    "distinc_tables = pd.read_csv('../dataset/unique_tables_all_signals.csv', delimiter=',', keep_default_na=False)"
   ]
  },
  {
   "cell_type": "code",
   "execution_count": null,
   "metadata": {},
   "outputs": [],
   "source": []
  },
  {
   "cell_type": "code",
   "execution_count": 3,
   "metadata": {},
   "outputs": [],
   "source": [
    "def createIndexing():\n",
    "    \n",
    "    for i, row in distinc_tables.iterrows():\n",
    "        \n",
    "        tablePgID = row['table_id']\n",
    "        tablePgTitle = row['table_page_title']\n",
    "        tablePgFullText = row['table_page_full_text']\n",
    "        tablePgMetaDescription = row['table_page_meta_description']\n",
    "        tablePgSummary = row['table_page_summary']\n",
    "        tablePgKeywords = row['table_page_keywords']\n",
    "        tableSectionTitle = row['table_section_title']\n",
    "        tableCaption = row['table_caption']\n",
    "        tableHeader = row['table_header']\n",
    "        tableBody = row['table_body']\n",
    "        \n",
    "        yield {\n",
    "            \"_index\": \"distinct_tables\",\n",
    "            \"_type\": \"distinct_tables\",\n",
    "            \"_source\": {\n",
    "                \"table_page_id\": tablePgID,\n",
    "                \"table_page_title\": tablePgTitle,\n",
    "                \"table_page_full_text\": tablePgFullText,\n",
    "                \"table_page_meta_description\": tablePgMetaDescription,\n",
    "                \"table_page_summary\": tablePgSummary,\n",
    "                \"table_page_keywords\": tablePgKeywords,\n",
    "                \"table_section_title\": tableSectionTitle,\n",
    "                \"table_caption\": tableCaption,\n",
    "                \"table_header\": tableHeader,\n",
    "                \"table_body\": tableBody\n",
    "            }\n",
    "            \n",
    "        }"
   ]
  },
  {
   "cell_type": "code",
   "execution_count": 4,
   "metadata": {},
   "outputs": [
    {
     "data": {
      "text/plain": [
       "{'acknowledged': True}"
      ]
     },
     "execution_count": 4,
     "metadata": {},
     "output_type": "execute_result"
    }
   ],
   "source": [
    "indexing_distinct_tables.indices.delete(index='distinct_tables')"
   ]
  },
  {
   "cell_type": "code",
   "execution_count": null,
   "metadata": {},
   "outputs": [],
   "source": []
  },
  {
   "cell_type": "code",
   "execution_count": 5,
   "metadata": {},
   "outputs": [
    {
     "data": {
      "text/plain": [
       "(68522, [])"
      ]
     },
     "execution_count": 5,
     "metadata": {},
     "output_type": "execute_result"
    }
   ],
   "source": [
    "helpers.bulk(indexing_distinct_tables, createIndexing())"
   ]
  },
  {
   "cell_type": "code",
   "execution_count": null,
   "metadata": {},
   "outputs": [],
   "source": []
  },
  {
   "cell_type": "code",
   "execution_count": null,
   "metadata": {},
   "outputs": [],
   "source": []
  },
  {
   "cell_type": "code",
   "execution_count": null,
   "metadata": {},
   "outputs": [],
   "source": []
  }
 ],
 "metadata": {
  "kernelspec": {
   "display_name": "Python 3",
   "language": "python",
   "name": "python3"
  },
  "language_info": {
   "codemirror_mode": {
    "name": "ipython",
    "version": 3
   },
   "file_extension": ".py",
   "mimetype": "text/x-python",
   "name": "python",
   "nbconvert_exporter": "python",
   "pygments_lexer": "ipython3",
   "version": "3.7.3"
  }
 },
 "nbformat": 4,
 "nbformat_minor": 2
}
